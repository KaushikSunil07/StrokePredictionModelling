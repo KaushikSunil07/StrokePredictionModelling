{
 "cells": [
  {
   "cell_type": "markdown",
   "metadata": {},
   "source": [
    "# Assignment (Phase 2)\n",
    "\n",
    "### Group Name : Group 30 \n",
    "\n",
    "### Full Name: Kaushik Sunil Anagarkar \n",
    "\n",
    "### Student number : s3827495"
   ]
  },
  {
   "cell_type": "markdown",
   "metadata": {},
   "source": [
    "## <span style=\"color: #0099cc;\">Table of Contents\n",
    "- [Introduction](#1) <br/>\n",
    "    * [Report Overview](#2) <br/>\n",
    "    * [Overview of Methodology](#3) <br/>\n",
    "- [Predictive Modelling](#4) <br/>\n",
    "    * [Feature Selection](#5)<br/>\n",
    "    * [Model Fitting & Tuning](#6)<br/>\n",
    "    * [Model Comparison](#7) <br/>\n",
    "- [Critique & Limitations](#8)<br/> \n",
    "- [Summary and Conclusions](#9) <br/>\n",
    "    * [Project Summary](#10) <br/>\n",
    "    * [Summary of Findings](#11) <br/>\n",
    "    * [Conclusions](#12) <br/>\n",
    "- [References](#13) <br/>"
   ]
  },
  {
   "cell_type": "markdown",
   "metadata": {},
   "source": [
    "# <span style=\"color: #0099cc;\"> Introduction <a class=\"anchor\" id=\"1\"></a>"
   ]
  },
  {
   "cell_type": "markdown",
   "metadata": {},
   "source": [
    "## <span style=\"color: #0099cc;\"> Report Overview <a class=\"anchor\" id=\"2\"></a> \n",
    "    \n",
    "    \n",
    "The objective of this report is to predict whether a patient is likely to get stroke using the input parameters like gender, age, various diseases, and smoking status. Each row in the data provides relavant information about the patient\n",
    "The dataset is sourced from Kaggle Stroke Prediction Dataset\n",
    "Stroke Prediction Dataset. (2021). Retrieved 2 June 2021, from https://www.kaggle.com/fedesoriano/stroke-prediction-dataset .\n",
    "\n",
    "The descriptive features include 4 Nominal Categorical, 3 Numerical ,3 Binary and Ordinal categorical features .\n",
    "The target features have two classes defined as **0** and **1** .\n",
    "The dataset is cleaned in the **Phase 1** and the Cleaned Dataset has **4259** observations.\n",
    "This report is organized as follows:\n",
    "    \n",
    "* **Overview of Methodology** -outlines our methodology\n",
    "* **Feature Selection** -selection of best features to predict the model \n",
    "* **Model Fitting & Tuning** -describes the model fitting and tuning process for each classification algorithm.\n",
    "* **Model Comparison** -presents model performance comparison results.\n",
    "* **Critique & Limitations** -discusses a limitations of our approach and possible solutions.\n",
    "* **Summary and Conclusions**- provides a brief summary of our work in this project."
   ]
  },
  {
   "cell_type": "markdown",
   "metadata": {},
   "source": [
    "##  <span style=\"color: #0099cc;\">Overview of Methodology <a class=\"anchor\" id=\"3\"></a> \n",
    "    \n",
    "    \n",
    "The following classifiers are used to predict binary target feature( __stroke__):<br/>\n",
    "Model 1: K-Nearest Neighbors (KNN)<br/>\n",
    "Model 2: Decision trees (DT)<br/>\n",
    "Model 3: Gaussian Naive Bayes<br/>\n",
    "    \n",
    "Data cleaning process included dropping off the Missing values and Outliers.Predictive modeling process starts by encoding the categorical descriptive features as numerical and scaling all descriptive features using Min-Max Scaler.Due to imbalanced dataset we oversampled our Data and target features using RandomOverSampler.Next stage was to select the best features to improve accuracy using Random Forest Importance method. library.For model training and testing, the data set is split into 70:30 ratio respectively.Training data has 4906 observations used for model fitting and hyperparameter tuning section and test data has 2103 observations used for model comparison among the 3 classifiers mentioned above.\n",
    "\n",
    "Grid-search is performed for the best features selected from the Random Forest Importance method over each classifier.For each model 5-fold RepeatedKFold with 3 repetitions  cross-validation evaluation method is applied on the training data using accuracy metric. \n",
    "Aim is to accurately predict whether the patient is likely to get stroke (0: patient had no stroke , 1: patient had stroke).\n",
    "    \n",
    "Best hyperparameters are estimated for each model using the training data,then the model with these hyperparameters are fit on the test data using 10-fold RepeatedKFold cross-validation .\n",
    "Each classifier is compared with respect to corresponding metric scores and confusion matrices on test data to find the appropriate model for the data set.Further,to find whether the performance difference is statistically significant, paired t-tests are performed."
   ]
  },
  {
   "cell_type": "markdown",
   "metadata": {},
   "source": [
    "Importing all necessary libraries"
   ]
  },
  {
   "cell_type": "code",
   "execution_count": 1,
   "metadata": {},
   "outputs": [],
   "source": [
    "import numpy as np\n",
    "import pandas as pd\n",
    "import sklearn.metrics as metrics\n",
    "\n",
    "from sklearn import feature_selection as fs\n",
    "from sklearn.tree import DecisionTreeClassifier\n",
    "import matplotlib.pyplot as plt \n",
    "from sklearn import preprocessing \n",
    "from sklearn.model_selection import train_test_split \n",
    "\n",
    "import warnings\n",
    "warnings.filterwarnings(\"ignore\")\n",
    "\n",
    "%matplotlib inline\n",
    "\n",
    "pd.set_option('display.max_columns', None) "
   ]
  },
  {
   "cell_type": "markdown",
   "metadata": {},
   "source": [
    "* The Given dataset is **Cleaned_Data.csv** is imported into pandas using <code>read_csv()</code> function "
   ]
  },
  {
   "cell_type": "code",
   "execution_count": 2,
   "metadata": {},
   "outputs": [
    {
     "data": {
      "text/html": [
       "<div>\n",
       "<style scoped>\n",
       "    .dataframe tbody tr th:only-of-type {\n",
       "        vertical-align: middle;\n",
       "    }\n",
       "\n",
       "    .dataframe tbody tr th {\n",
       "        vertical-align: top;\n",
       "    }\n",
       "\n",
       "    .dataframe thead th {\n",
       "        text-align: right;\n",
       "    }\n",
       "</style>\n",
       "<table border=\"1\" class=\"dataframe\">\n",
       "  <thead>\n",
       "    <tr style=\"text-align: right;\">\n",
       "      <th></th>\n",
       "      <th>gender</th>\n",
       "      <th>age</th>\n",
       "      <th>hypertension</th>\n",
       "      <th>heart_disease</th>\n",
       "      <th>ever_married</th>\n",
       "      <th>work_type</th>\n",
       "      <th>Residence_type</th>\n",
       "      <th>avg_glucose_level</th>\n",
       "      <th>bmi</th>\n",
       "      <th>smoking_status</th>\n",
       "      <th>stroke</th>\n",
       "    </tr>\n",
       "  </thead>\n",
       "  <tbody>\n",
       "    <tr>\n",
       "      <th>0</th>\n",
       "      <td>Male</td>\n",
       "      <td>80.0</td>\n",
       "      <td>0</td>\n",
       "      <td>1</td>\n",
       "      <td>Yes</td>\n",
       "      <td>Private</td>\n",
       "      <td>Rural</td>\n",
       "      <td>105.92</td>\n",
       "      <td>32.5</td>\n",
       "      <td>never smoked</td>\n",
       "      <td>1</td>\n",
       "    </tr>\n",
       "    <tr>\n",
       "      <th>1</th>\n",
       "      <td>Male</td>\n",
       "      <td>74.0</td>\n",
       "      <td>1</td>\n",
       "      <td>1</td>\n",
       "      <td>Yes</td>\n",
       "      <td>Private</td>\n",
       "      <td>Rural</td>\n",
       "      <td>70.09</td>\n",
       "      <td>27.4</td>\n",
       "      <td>never smoked</td>\n",
       "      <td>1</td>\n",
       "    </tr>\n",
       "    <tr>\n",
       "      <th>2</th>\n",
       "      <td>Female</td>\n",
       "      <td>69.0</td>\n",
       "      <td>0</td>\n",
       "      <td>0</td>\n",
       "      <td>No</td>\n",
       "      <td>Private</td>\n",
       "      <td>Urban</td>\n",
       "      <td>94.39</td>\n",
       "      <td>22.8</td>\n",
       "      <td>never smoked</td>\n",
       "      <td>1</td>\n",
       "    </tr>\n",
       "    <tr>\n",
       "      <th>3</th>\n",
       "      <td>Female</td>\n",
       "      <td>78.0</td>\n",
       "      <td>0</td>\n",
       "      <td>0</td>\n",
       "      <td>Yes</td>\n",
       "      <td>Private</td>\n",
       "      <td>Urban</td>\n",
       "      <td>58.57</td>\n",
       "      <td>24.2</td>\n",
       "      <td>Unknown</td>\n",
       "      <td>1</td>\n",
       "    </tr>\n",
       "    <tr>\n",
       "      <th>4</th>\n",
       "      <td>Female</td>\n",
       "      <td>81.0</td>\n",
       "      <td>1</td>\n",
       "      <td>0</td>\n",
       "      <td>Yes</td>\n",
       "      <td>Private</td>\n",
       "      <td>Rural</td>\n",
       "      <td>80.43</td>\n",
       "      <td>29.7</td>\n",
       "      <td>never smoked</td>\n",
       "      <td>1</td>\n",
       "    </tr>\n",
       "  </tbody>\n",
       "</table>\n",
       "</div>"
      ],
      "text/plain": [
       "   gender   age  hypertension  heart_disease ever_married work_type  \\\n",
       "0    Male  80.0             0              1          Yes   Private   \n",
       "1    Male  74.0             1              1          Yes   Private   \n",
       "2  Female  69.0             0              0           No   Private   \n",
       "3  Female  78.0             0              0          Yes   Private   \n",
       "4  Female  81.0             1              0          Yes   Private   \n",
       "\n",
       "  Residence_type  avg_glucose_level   bmi smoking_status  stroke  \n",
       "0          Rural             105.92  32.5   never smoked       1  \n",
       "1          Rural              70.09  27.4   never smoked       1  \n",
       "2          Urban              94.39  22.8   never smoked       1  \n",
       "3          Urban              58.57  24.2        Unknown       1  \n",
       "4          Rural              80.43  29.7   never smoked       1  "
      ]
     },
     "execution_count": 2,
     "metadata": {},
     "output_type": "execute_result"
    }
   ],
   "source": [
    "#import cleaned data \n",
    "stroke =pd.read_csv('Cleaned_Data.csv')\n",
    "stroke.head()"
   ]
  },
  {
   "cell_type": "code",
   "execution_count": 3,
   "metadata": {},
   "outputs": [
    {
     "data": {
      "text/plain": [
       "(4259, 11)"
      ]
     },
     "execution_count": 3,
     "metadata": {},
     "output_type": "execute_result"
    }
   ],
   "source": [
    "stroke.shape"
   ]
  },
  {
   "cell_type": "markdown",
   "metadata": {},
   "source": [
    "Creating **Data** feature from the **stroke** dataset by dropping off the **stroke** column and **target** feature by selecting the **stroke** column from the diamonds dataset."
   ]
  },
  {
   "cell_type": "code",
   "execution_count": 4,
   "metadata": {},
   "outputs": [],
   "source": [
    "#Create Data feature and target features\n",
    "Data = stroke.drop(columns='stroke')\n",
    "target=stroke['stroke']"
   ]
  },
  {
   "cell_type": "code",
   "execution_count": 5,
   "metadata": {},
   "outputs": [
    {
     "data": {
      "text/plain": [
       "(4259, 10)"
      ]
     },
     "execution_count": 5,
     "metadata": {},
     "output_type": "execute_result"
    }
   ],
   "source": [
    "#shape of Data feature\n",
    "Data.shape"
   ]
  },
  {
   "cell_type": "code",
   "execution_count": 6,
   "metadata": {},
   "outputs": [
    {
     "data": {
      "text/plain": [
       "(4259,)"
      ]
     },
     "execution_count": 6,
     "metadata": {},
     "output_type": "execute_result"
    }
   ],
   "source": [
    "#shape of target feature\n",
    "target.shape"
   ]
  },
  {
   "cell_type": "markdown",
   "metadata": {},
   "source": [
    "Create a list **catgeorical** columns of the Data feature"
   ]
  },
  {
   "cell_type": "code",
   "execution_count": 7,
   "metadata": {},
   "outputs": [
    {
     "data": {
      "text/plain": [
       "['gender', 'ever_married', 'work_type', 'Residence_type', 'smoking_status']"
      ]
     },
     "execution_count": 7,
     "metadata": {},
     "output_type": "execute_result"
    }
   ],
   "source": [
    "# creating a list categorical columns of the stroke dataset\n",
    "categorical_columns = Data.columns[Data.dtypes == object].tolist() \n",
    "categorical_columns"
   ]
  },
  {
   "cell_type": "markdown",
   "metadata": {},
   "source": [
    "### One-Hot Encoding \n",
    "\n",
    "If the **categorical** columns of the Data features are **binary** categorical columns then we do not need the seperate columns so we drop the column after performing **one-hot encoding** using <code>get.dummies()</code> function."
   ]
  },
  {
   "cell_type": "code",
   "execution_count": 8,
   "metadata": {},
   "outputs": [
    {
     "data": {
      "text/html": [
       "<div>\n",
       "<style scoped>\n",
       "    .dataframe tbody tr th:only-of-type {\n",
       "        vertical-align: middle;\n",
       "    }\n",
       "\n",
       "    .dataframe tbody tr th {\n",
       "        vertical-align: top;\n",
       "    }\n",
       "\n",
       "    .dataframe thead th {\n",
       "        text-align: right;\n",
       "    }\n",
       "</style>\n",
       "<table border=\"1\" class=\"dataframe\">\n",
       "  <thead>\n",
       "    <tr style=\"text-align: right;\">\n",
       "      <th></th>\n",
       "      <th>gender</th>\n",
       "      <th>age</th>\n",
       "      <th>hypertension</th>\n",
       "      <th>heart_disease</th>\n",
       "      <th>ever_married</th>\n",
       "      <th>work_type</th>\n",
       "      <th>Residence_type</th>\n",
       "      <th>avg_glucose_level</th>\n",
       "      <th>bmi</th>\n",
       "      <th>smoking_status</th>\n",
       "    </tr>\n",
       "  </thead>\n",
       "  <tbody>\n",
       "    <tr>\n",
       "      <th>0</th>\n",
       "      <td>1</td>\n",
       "      <td>80.0</td>\n",
       "      <td>0</td>\n",
       "      <td>1</td>\n",
       "      <td>1</td>\n",
       "      <td>Private</td>\n",
       "      <td>0</td>\n",
       "      <td>105.92</td>\n",
       "      <td>32.5</td>\n",
       "      <td>never smoked</td>\n",
       "    </tr>\n",
       "    <tr>\n",
       "      <th>1</th>\n",
       "      <td>1</td>\n",
       "      <td>74.0</td>\n",
       "      <td>1</td>\n",
       "      <td>1</td>\n",
       "      <td>1</td>\n",
       "      <td>Private</td>\n",
       "      <td>0</td>\n",
       "      <td>70.09</td>\n",
       "      <td>27.4</td>\n",
       "      <td>never smoked</td>\n",
       "    </tr>\n",
       "    <tr>\n",
       "      <th>2</th>\n",
       "      <td>0</td>\n",
       "      <td>69.0</td>\n",
       "      <td>0</td>\n",
       "      <td>0</td>\n",
       "      <td>0</td>\n",
       "      <td>Private</td>\n",
       "      <td>1</td>\n",
       "      <td>94.39</td>\n",
       "      <td>22.8</td>\n",
       "      <td>never smoked</td>\n",
       "    </tr>\n",
       "    <tr>\n",
       "      <th>3</th>\n",
       "      <td>0</td>\n",
       "      <td>78.0</td>\n",
       "      <td>0</td>\n",
       "      <td>0</td>\n",
       "      <td>1</td>\n",
       "      <td>Private</td>\n",
       "      <td>1</td>\n",
       "      <td>58.57</td>\n",
       "      <td>24.2</td>\n",
       "      <td>Unknown</td>\n",
       "    </tr>\n",
       "    <tr>\n",
       "      <th>4</th>\n",
       "      <td>0</td>\n",
       "      <td>81.0</td>\n",
       "      <td>1</td>\n",
       "      <td>0</td>\n",
       "      <td>1</td>\n",
       "      <td>Private</td>\n",
       "      <td>0</td>\n",
       "      <td>80.43</td>\n",
       "      <td>29.7</td>\n",
       "      <td>never smoked</td>\n",
       "    </tr>\n",
       "  </tbody>\n",
       "</table>\n",
       "</div>"
      ],
      "text/plain": [
       "   gender   age  hypertension  heart_disease  ever_married work_type  \\\n",
       "0       1  80.0             0              1             1   Private   \n",
       "1       1  74.0             1              1             1   Private   \n",
       "2       0  69.0             0              0             0   Private   \n",
       "3       0  78.0             0              0             1   Private   \n",
       "4       0  81.0             1              0             1   Private   \n",
       "\n",
       "   Residence_type  avg_glucose_level   bmi smoking_status  \n",
       "0               0             105.92  32.5   never smoked  \n",
       "1               0              70.09  27.4   never smoked  \n",
       "2               1              94.39  22.8   never smoked  \n",
       "3               1              58.57  24.2        Unknown  \n",
       "4               0              80.43  29.7   never smoked  "
      ]
     },
     "execution_count": 8,
     "metadata": {},
     "output_type": "execute_result"
    }
   ],
   "source": [
    "#one-hot encoding for the binary categorical columns \n",
    "for name in categorical_columns:\n",
    "    length = len(Data[name].unique())\n",
    "    if length == 2:\n",
    "        Data[name] = pd.get_dummies(Data[name], drop_first=True)\n",
    "Data.head()"
   ]
  },
  {
   "cell_type": "markdown",
   "metadata": {},
   "source": [
    "Performing **one-hot encoding** for **categorical** columns with more than **two levels** of the diamonds dataset."
   ]
  },
  {
   "cell_type": "code",
   "execution_count": 9,
   "metadata": {},
   "outputs": [
    {
     "data": {
      "text/html": [
       "<div>\n",
       "<style scoped>\n",
       "    .dataframe tbody tr th:only-of-type {\n",
       "        vertical-align: middle;\n",
       "    }\n",
       "\n",
       "    .dataframe tbody tr th {\n",
       "        vertical-align: top;\n",
       "    }\n",
       "\n",
       "    .dataframe thead th {\n",
       "        text-align: right;\n",
       "    }\n",
       "</style>\n",
       "<table border=\"1\" class=\"dataframe\">\n",
       "  <thead>\n",
       "    <tr style=\"text-align: right;\">\n",
       "      <th></th>\n",
       "      <th>gender</th>\n",
       "      <th>age</th>\n",
       "      <th>hypertension</th>\n",
       "      <th>heart_disease</th>\n",
       "      <th>ever_married</th>\n",
       "      <th>Residence_type</th>\n",
       "      <th>avg_glucose_level</th>\n",
       "      <th>bmi</th>\n",
       "      <th>work_type_Govt_job</th>\n",
       "      <th>work_type_Never_worked</th>\n",
       "      <th>work_type_Private</th>\n",
       "      <th>work_type_Self-employed</th>\n",
       "      <th>work_type_children</th>\n",
       "      <th>smoking_status_Unknown</th>\n",
       "      <th>smoking_status_formerly smoked</th>\n",
       "      <th>smoking_status_never smoked</th>\n",
       "      <th>smoking_status_smokes</th>\n",
       "    </tr>\n",
       "  </thead>\n",
       "  <tbody>\n",
       "    <tr>\n",
       "      <th>0</th>\n",
       "      <td>1</td>\n",
       "      <td>80.0</td>\n",
       "      <td>0</td>\n",
       "      <td>1</td>\n",
       "      <td>1</td>\n",
       "      <td>0</td>\n",
       "      <td>105.92</td>\n",
       "      <td>32.5</td>\n",
       "      <td>0</td>\n",
       "      <td>0</td>\n",
       "      <td>1</td>\n",
       "      <td>0</td>\n",
       "      <td>0</td>\n",
       "      <td>0</td>\n",
       "      <td>0</td>\n",
       "      <td>1</td>\n",
       "      <td>0</td>\n",
       "    </tr>\n",
       "    <tr>\n",
       "      <th>1</th>\n",
       "      <td>1</td>\n",
       "      <td>74.0</td>\n",
       "      <td>1</td>\n",
       "      <td>1</td>\n",
       "      <td>1</td>\n",
       "      <td>0</td>\n",
       "      <td>70.09</td>\n",
       "      <td>27.4</td>\n",
       "      <td>0</td>\n",
       "      <td>0</td>\n",
       "      <td>1</td>\n",
       "      <td>0</td>\n",
       "      <td>0</td>\n",
       "      <td>0</td>\n",
       "      <td>0</td>\n",
       "      <td>1</td>\n",
       "      <td>0</td>\n",
       "    </tr>\n",
       "    <tr>\n",
       "      <th>2</th>\n",
       "      <td>0</td>\n",
       "      <td>69.0</td>\n",
       "      <td>0</td>\n",
       "      <td>0</td>\n",
       "      <td>0</td>\n",
       "      <td>1</td>\n",
       "      <td>94.39</td>\n",
       "      <td>22.8</td>\n",
       "      <td>0</td>\n",
       "      <td>0</td>\n",
       "      <td>1</td>\n",
       "      <td>0</td>\n",
       "      <td>0</td>\n",
       "      <td>0</td>\n",
       "      <td>0</td>\n",
       "      <td>1</td>\n",
       "      <td>0</td>\n",
       "    </tr>\n",
       "    <tr>\n",
       "      <th>3</th>\n",
       "      <td>0</td>\n",
       "      <td>78.0</td>\n",
       "      <td>0</td>\n",
       "      <td>0</td>\n",
       "      <td>1</td>\n",
       "      <td>1</td>\n",
       "      <td>58.57</td>\n",
       "      <td>24.2</td>\n",
       "      <td>0</td>\n",
       "      <td>0</td>\n",
       "      <td>1</td>\n",
       "      <td>0</td>\n",
       "      <td>0</td>\n",
       "      <td>1</td>\n",
       "      <td>0</td>\n",
       "      <td>0</td>\n",
       "      <td>0</td>\n",
       "    </tr>\n",
       "    <tr>\n",
       "      <th>4</th>\n",
       "      <td>0</td>\n",
       "      <td>81.0</td>\n",
       "      <td>1</td>\n",
       "      <td>0</td>\n",
       "      <td>1</td>\n",
       "      <td>0</td>\n",
       "      <td>80.43</td>\n",
       "      <td>29.7</td>\n",
       "      <td>0</td>\n",
       "      <td>0</td>\n",
       "      <td>1</td>\n",
       "      <td>0</td>\n",
       "      <td>0</td>\n",
       "      <td>0</td>\n",
       "      <td>0</td>\n",
       "      <td>1</td>\n",
       "      <td>0</td>\n",
       "    </tr>\n",
       "  </tbody>\n",
       "</table>\n",
       "</div>"
      ],
      "text/plain": [
       "   gender   age  hypertension  heart_disease  ever_married  Residence_type  \\\n",
       "0       1  80.0             0              1             1               0   \n",
       "1       1  74.0             1              1             1               0   \n",
       "2       0  69.0             0              0             0               1   \n",
       "3       0  78.0             0              0             1               1   \n",
       "4       0  81.0             1              0             1               0   \n",
       "\n",
       "   avg_glucose_level   bmi  work_type_Govt_job  work_type_Never_worked  \\\n",
       "0             105.92  32.5                   0                       0   \n",
       "1              70.09  27.4                   0                       0   \n",
       "2              94.39  22.8                   0                       0   \n",
       "3              58.57  24.2                   0                       0   \n",
       "4              80.43  29.7                   0                       0   \n",
       "\n",
       "   work_type_Private  work_type_Self-employed  work_type_children  \\\n",
       "0                  1                        0                   0   \n",
       "1                  1                        0                   0   \n",
       "2                  1                        0                   0   \n",
       "3                  1                        0                   0   \n",
       "4                  1                        0                   0   \n",
       "\n",
       "   smoking_status_Unknown  smoking_status_formerly smoked  \\\n",
       "0                       0                               0   \n",
       "1                       0                               0   \n",
       "2                       0                               0   \n",
       "3                       1                               0   \n",
       "4                       0                               0   \n",
       "\n",
       "   smoking_status_never smoked  smoking_status_smokes  \n",
       "0                            1                      0  \n",
       "1                            1                      0  \n",
       "2                            1                      0  \n",
       "3                            0                      0  \n",
       "4                            1                      0  "
      ]
     },
     "execution_count": 9,
     "metadata": {},
     "output_type": "execute_result"
    }
   ],
   "source": [
    "#one-hot encoding for the categorical columns with more than 2 levels\n",
    "Data = pd.get_dummies(Data)\n",
    "Data.head()"
   ]
  },
  {
   "cell_type": "markdown",
   "metadata": {},
   "source": [
    "## Scaling the Data Features \n",
    "\n",
    "* <code>MinMaxScalar()</code> is used  for scaling the descriptive features "
   ]
  },
  {
   "cell_type": "code",
   "execution_count": 10,
   "metadata": {},
   "outputs": [
    {
     "data": {
      "text/plain": [
       "(4259, 17)"
      ]
     },
     "execution_count": 10,
     "metadata": {},
     "output_type": "execute_result"
    }
   ],
   "source": [
    "#Scale the Data features\n",
    "from sklearn import preprocessing\n",
    "Data_unscaled=Data.copy()\n",
    "Data = preprocessing.MinMaxScaler().fit_transform(Data)\n",
    "Data.shape"
   ]
  },
  {
   "cell_type": "code",
   "execution_count": 11,
   "metadata": {},
   "outputs": [
    {
     "data": {
      "text/plain": [
       "Index(['gender', 'age', 'hypertension', 'heart_disease', 'ever_married',\n",
       "       'Residence_type', 'avg_glucose_level', 'bmi', 'work_type_Govt_job',\n",
       "       'work_type_Never_worked', 'work_type_Private',\n",
       "       'work_type_Self-employed', 'work_type_children',\n",
       "       'smoking_status_Unknown', 'smoking_status_formerly smoked',\n",
       "       'smoking_status_never smoked', 'smoking_status_smokes'],\n",
       "      dtype='object')"
      ]
     },
     "execution_count": 11,
     "metadata": {},
     "output_type": "execute_result"
    }
   ],
   "source": [
    "Data_unscaled.columns"
   ]
  },
  {
   "cell_type": "markdown",
   "metadata": {},
   "source": [
    "Checking the **levels** of the target feature"
   ]
  },
  {
   "cell_type": "code",
   "execution_count": 12,
   "metadata": {},
   "outputs": [
    {
     "data": {
      "text/plain": [
       "0    4123\n",
       "1     136\n",
       "Name: stroke, dtype: int64"
      ]
     },
     "execution_count": 12,
     "metadata": {},
     "output_type": "execute_result"
    }
   ],
   "source": [
    "target.value_counts()"
   ]
  },
  {
   "cell_type": "markdown",
   "metadata": {},
   "source": [
    "* The target feature is **imbalanced** which would lead to **bad model prediction** . \n",
    "* In order to have our model give better prediction we can oversample(increasing the sample size) our **Data** and **target** feature using <code>RandomOverSampler</code>  library\n",
    "* Import <code>Counter</code> to check the count of the classes of feature"
   ]
  },
  {
   "cell_type": "code",
   "execution_count": 13,
   "metadata": {},
   "outputs": [],
   "source": [
    "from imblearn.over_sampling import RandomOverSampler\n",
    "from collections import Counter"
   ]
  },
  {
   "cell_type": "code",
   "execution_count": 14,
   "metadata": {},
   "outputs": [
    {
     "name": "stdout",
     "output_type": "stream",
     "text": [
      "Counter({0: 4123, 1: 136})\n"
     ]
    }
   ],
   "source": [
    "print(Counter(target))"
   ]
  },
  {
   "cell_type": "markdown",
   "metadata": {},
   "source": [
    "* Fit the Scaled Data feature **Data** and **target** feature to the <code>RandomOverSampler</code> model with **0.7 sampling strategy**\n",
    "* Use <code>Counter()</code> function to check the classes of the **oversampled target** features"
   ]
  },
  {
   "cell_type": "code",
   "execution_count": 15,
   "metadata": {},
   "outputs": [
    {
     "name": "stdout",
     "output_type": "stream",
     "text": [
      "Counter({0: 4123, 1: 2886})\n"
     ]
    }
   ],
   "source": [
    "# instantiating the random undersampler\n",
    "ros = RandomOverSampler(sampling_strategy=0.7) \n",
    "\n",
    "# resampling X, y\n",
    "Data, target_ros = ros.fit_resample(Data,target)\n",
    "\n",
    "# new class distribution\n",
    "print(Counter(target_ros))"
   ]
  },
  {
   "cell_type": "markdown",
   "metadata": {},
   "source": [
    "* Now the **Oversampled** dataset consistts of **7009** observations \n",
    "* Note the updated shape of **Data** and **target** feature using `shape` function "
   ]
  },
  {
   "cell_type": "code",
   "execution_count": 16,
   "metadata": {},
   "outputs": [
    {
     "data": {
      "text/plain": [
       "(7009, 17)"
      ]
     },
     "execution_count": 16,
     "metadata": {},
     "output_type": "execute_result"
    }
   ],
   "source": [
    "Data.shape"
   ]
  },
  {
   "cell_type": "code",
   "execution_count": 17,
   "metadata": {},
   "outputs": [
    {
     "data": {
      "text/plain": [
       "(7009,)"
      ]
     },
     "execution_count": 17,
     "metadata": {},
     "output_type": "execute_result"
    }
   ],
   "source": [
    "target_ros.shape"
   ]
  },
  {
   "cell_type": "markdown",
   "metadata": {},
   "source": [
    "* Saving the oversampled numpy array **Data** into a dataframe named **Data** for further manipulation.\n",
    "* Displaying the 5 sampled observations to verify if all the features are being scaled "
   ]
  },
  {
   "cell_type": "code",
   "execution_count": 18,
   "metadata": {},
   "outputs": [
    {
     "data": {
      "text/html": [
       "<div>\n",
       "<style scoped>\n",
       "    .dataframe tbody tr th:only-of-type {\n",
       "        vertical-align: middle;\n",
       "    }\n",
       "\n",
       "    .dataframe tbody tr th {\n",
       "        vertical-align: top;\n",
       "    }\n",
       "\n",
       "    .dataframe thead th {\n",
       "        text-align: right;\n",
       "    }\n",
       "</style>\n",
       "<table border=\"1\" class=\"dataframe\">\n",
       "  <thead>\n",
       "    <tr style=\"text-align: right;\">\n",
       "      <th></th>\n",
       "      <th>gender</th>\n",
       "      <th>age</th>\n",
       "      <th>hypertension</th>\n",
       "      <th>heart_disease</th>\n",
       "      <th>ever_married</th>\n",
       "      <th>Residence_type</th>\n",
       "      <th>avg_glucose_level</th>\n",
       "      <th>bmi</th>\n",
       "      <th>work_type_Govt_job</th>\n",
       "      <th>work_type_Never_worked</th>\n",
       "      <th>work_type_Private</th>\n",
       "      <th>work_type_Self-employed</th>\n",
       "      <th>work_type_children</th>\n",
       "      <th>smoking_status_Unknown</th>\n",
       "      <th>smoking_status_formerly smoked</th>\n",
       "      <th>smoking_status_never smoked</th>\n",
       "      <th>smoking_status_smokes</th>\n",
       "    </tr>\n",
       "  </thead>\n",
       "  <tbody>\n",
       "    <tr>\n",
       "      <th>2878</th>\n",
       "      <td>1.0</td>\n",
       "      <td>0.987793</td>\n",
       "      <td>0.0</td>\n",
       "      <td>1.0</td>\n",
       "      <td>1.0</td>\n",
       "      <td>0.0</td>\n",
       "      <td>0.116341</td>\n",
       "      <td>0.395161</td>\n",
       "      <td>0.0</td>\n",
       "      <td>0.0</td>\n",
       "      <td>0.0</td>\n",
       "      <td>1.0</td>\n",
       "      <td>0.0</td>\n",
       "      <td>1.0</td>\n",
       "      <td>0.0</td>\n",
       "      <td>0.0</td>\n",
       "      <td>0.0</td>\n",
       "    </tr>\n",
       "    <tr>\n",
       "      <th>4563</th>\n",
       "      <td>0.0</td>\n",
       "      <td>0.682617</td>\n",
       "      <td>0.0</td>\n",
       "      <td>0.0</td>\n",
       "      <td>1.0</td>\n",
       "      <td>0.0</td>\n",
       "      <td>0.947625</td>\n",
       "      <td>0.456989</td>\n",
       "      <td>1.0</td>\n",
       "      <td>0.0</td>\n",
       "      <td>0.0</td>\n",
       "      <td>0.0</td>\n",
       "      <td>0.0</td>\n",
       "      <td>1.0</td>\n",
       "      <td>0.0</td>\n",
       "      <td>0.0</td>\n",
       "      <td>0.0</td>\n",
       "    </tr>\n",
       "    <tr>\n",
       "      <th>1378</th>\n",
       "      <td>0.0</td>\n",
       "      <td>0.731445</td>\n",
       "      <td>0.0</td>\n",
       "      <td>0.0</td>\n",
       "      <td>1.0</td>\n",
       "      <td>0.0</td>\n",
       "      <td>0.060338</td>\n",
       "      <td>0.473118</td>\n",
       "      <td>1.0</td>\n",
       "      <td>0.0</td>\n",
       "      <td>0.0</td>\n",
       "      <td>0.0</td>\n",
       "      <td>0.0</td>\n",
       "      <td>0.0</td>\n",
       "      <td>1.0</td>\n",
       "      <td>0.0</td>\n",
       "      <td>0.0</td>\n",
       "    </tr>\n",
       "    <tr>\n",
       "      <th>1904</th>\n",
       "      <td>0.0</td>\n",
       "      <td>0.975586</td>\n",
       "      <td>0.0</td>\n",
       "      <td>1.0</td>\n",
       "      <td>1.0</td>\n",
       "      <td>0.0</td>\n",
       "      <td>0.382819</td>\n",
       "      <td>0.319892</td>\n",
       "      <td>0.0</td>\n",
       "      <td>0.0</td>\n",
       "      <td>0.0</td>\n",
       "      <td>1.0</td>\n",
       "      <td>0.0</td>\n",
       "      <td>0.0</td>\n",
       "      <td>0.0</td>\n",
       "      <td>0.0</td>\n",
       "      <td>1.0</td>\n",
       "    </tr>\n",
       "    <tr>\n",
       "      <th>2470</th>\n",
       "      <td>1.0</td>\n",
       "      <td>0.633789</td>\n",
       "      <td>0.0</td>\n",
       "      <td>0.0</td>\n",
       "      <td>1.0</td>\n",
       "      <td>1.0</td>\n",
       "      <td>0.286561</td>\n",
       "      <td>0.543011</td>\n",
       "      <td>0.0</td>\n",
       "      <td>0.0</td>\n",
       "      <td>1.0</td>\n",
       "      <td>0.0</td>\n",
       "      <td>0.0</td>\n",
       "      <td>0.0</td>\n",
       "      <td>1.0</td>\n",
       "      <td>0.0</td>\n",
       "      <td>0.0</td>\n",
       "    </tr>\n",
       "  </tbody>\n",
       "</table>\n",
       "</div>"
      ],
      "text/plain": [
       "      gender       age  hypertension  heart_disease  ever_married  \\\n",
       "2878     1.0  0.987793           0.0            1.0           1.0   \n",
       "4563     0.0  0.682617           0.0            0.0           1.0   \n",
       "1378     0.0  0.731445           0.0            0.0           1.0   \n",
       "1904     0.0  0.975586           0.0            1.0           1.0   \n",
       "2470     1.0  0.633789           0.0            0.0           1.0   \n",
       "\n",
       "      Residence_type  avg_glucose_level       bmi  work_type_Govt_job  \\\n",
       "2878             0.0           0.116341  0.395161                 0.0   \n",
       "4563             0.0           0.947625  0.456989                 1.0   \n",
       "1378             0.0           0.060338  0.473118                 1.0   \n",
       "1904             0.0           0.382819  0.319892                 0.0   \n",
       "2470             1.0           0.286561  0.543011                 0.0   \n",
       "\n",
       "      work_type_Never_worked  work_type_Private  work_type_Self-employed  \\\n",
       "2878                     0.0                0.0                      1.0   \n",
       "4563                     0.0                0.0                      0.0   \n",
       "1378                     0.0                0.0                      0.0   \n",
       "1904                     0.0                0.0                      1.0   \n",
       "2470                     0.0                1.0                      0.0   \n",
       "\n",
       "      work_type_children  smoking_status_Unknown  \\\n",
       "2878                 0.0                     1.0   \n",
       "4563                 0.0                     1.0   \n",
       "1378                 0.0                     0.0   \n",
       "1904                 0.0                     0.0   \n",
       "2470                 0.0                     0.0   \n",
       "\n",
       "      smoking_status_formerly smoked  smoking_status_never smoked  \\\n",
       "2878                             0.0                          0.0   \n",
       "4563                             0.0                          0.0   \n",
       "1378                             1.0                          0.0   \n",
       "1904                             0.0                          0.0   \n",
       "2470                             1.0                          0.0   \n",
       "\n",
       "      smoking_status_smokes  \n",
       "2878                    0.0  \n",
       "4563                    0.0  \n",
       "1378                    0.0  \n",
       "1904                    1.0  \n",
       "2470                    0.0  "
      ]
     },
     "execution_count": 18,
     "metadata": {},
     "output_type": "execute_result"
    }
   ],
   "source": [
    "#Create dataframe of scaled dataframe \n",
    "Data = pd.DataFrame(Data,columns=Data_unscaled.columns)\n",
    "Data.sample(5,random_state=999)"
   ]
  },
  {
   "cell_type": "markdown",
   "metadata": {},
   "source": [
    "# <span style=\"color: #0099cc;\">Predictive Modelling <a class=\"anchor\" id=\"4\"></a> "
   ]
  },
  {
   "cell_type": "markdown",
   "metadata": {},
   "source": [
    "## <span style=\"color: #0099cc;\">Feature Selection <a class=\"anchor\" id=\"5\"></a> \n",
    "    \n",
    " "
   ]
  },
  {
   "cell_type": "markdown",
   "metadata": {},
   "source": [
    "* **Random Forest Importance(RFI)** is used to select the 10 most important features in the **stroke** dataset .\n",
    "* Plotting the **importance percentage** of all the best features"
   ]
  },
  {
   "cell_type": "code",
   "execution_count": 19,
   "metadata": {},
   "outputs": [],
   "source": [
    "from sklearn.ensemble import RandomForestClassifier\n",
    "\n",
    "num_features=10\n",
    "model_rfi = RandomForestClassifier(n_estimators=100)\n",
    "model_rfi.fit(Data, target_ros)\n",
    "fs_indices_rfi = np.argsort(model_rfi.feature_importances_)[::-1][0:num_features]"
   ]
  },
  {
   "cell_type": "code",
   "execution_count": 20,
   "metadata": {},
   "outputs": [
    {
     "data": {
      "text/plain": [
       "array([ 1,  6,  7,  2,  4,  5,  0, 11, 15, 13], dtype=int64)"
      ]
     },
     "execution_count": 20,
     "metadata": {},
     "output_type": "execute_result"
    }
   ],
   "source": [
    "fs_indices_rfi"
   ]
  },
  {
   "cell_type": "code",
   "execution_count": 21,
   "metadata": {},
   "outputs": [
    {
     "data": {
      "text/plain": [
       "array(['age', 'avg_glucose_level', 'bmi', 'hypertension', 'ever_married',\n",
       "       'Residence_type', 'gender', 'work_type_Self-employed',\n",
       "       'smoking_status_never smoked', 'smoking_status_Unknown'],\n",
       "      dtype=object)"
      ]
     },
     "execution_count": 21,
     "metadata": {},
     "output_type": "execute_result"
    }
   ],
   "source": [
    "best_features_rfi = Data.columns[fs_indices_rfi].values\n",
    "best_features_rfi"
   ]
  },
  {
   "cell_type": "code",
   "execution_count": 22,
   "metadata": {},
   "outputs": [
    {
     "data": {
      "text/plain": [
       "array([0.37590319, 0.17944131, 0.17846418, 0.03621259, 0.03433516,\n",
       "       0.0262948 , 0.02516187, 0.02007102, 0.01937663, 0.01676797])"
      ]
     },
     "execution_count": 22,
     "metadata": {},
     "output_type": "execute_result"
    }
   ],
   "source": [
    "feature_importances_rfi = model_rfi.feature_importances_[fs_indices_rfi]\n",
    "feature_importances_rfi"
   ]
  },
  {
   "cell_type": "code",
   "execution_count": 23,
   "metadata": {},
   "outputs": [],
   "source": [
    "def plot_imp(best_features, scores, method_name):   \n",
    "    plt.barh(best_features, scores)\n",
    "    plt.title(method_name + ' Feature Importances')\n",
    "    plt.xlabel(\"Importance\")\n",
    "    plt.ylabel(\"Features\")\n",
    "    plt.show()"
   ]
  },
  {
   "cell_type": "code",
   "execution_count": 24,
   "metadata": {},
   "outputs": [
    {
     "data": {
      "image/png": "[encoded data removed]",
      "text/plain": [
       "<Figure size 432x288 with 1 Axes>"
      ]
     },
     "metadata": {
      "needs_background": "light"
     },
     "output_type": "display_data"
    }
   ],
   "source": [
    "plot_imp(best_features_rfi, feature_importances_rfi, 'Random Forest')"
   ]
  },
  {
   "cell_type": "markdown",
   "metadata": {},
   "source": [
    "From the above plot, we can suggest that **age** feature has almost **36** percent importance compared to other best 9 features"
   ]
  },
  {
   "cell_type": "markdown",
   "metadata": {},
   "source": [
    "* Removing all the features except the **10 best features** in the **Data** features"
   ]
  },
  {
   "cell_type": "code",
   "execution_count": 25,
   "metadata": {},
   "outputs": [
    {
     "data": {
      "text/html": [
       "<div>\n",
       "<style scoped>\n",
       "    .dataframe tbody tr th:only-of-type {\n",
       "        vertical-align: middle;\n",
       "    }\n",
       "\n",
       "    .dataframe tbody tr th {\n",
       "        vertical-align: top;\n",
       "    }\n",
       "\n",
       "    .dataframe thead th {\n",
       "        text-align: right;\n",
       "    }\n",
       "</style>\n",
       "<table border=\"1\" class=\"dataframe\">\n",
       "  <thead>\n",
       "    <tr style=\"text-align: right;\">\n",
       "      <th></th>\n",
       "      <th>age</th>\n",
       "      <th>avg_glucose_level</th>\n",
       "      <th>bmi</th>\n",
       "      <th>hypertension</th>\n",
       "      <th>ever_married</th>\n",
       "      <th>Residence_type</th>\n",
       "      <th>gender</th>\n",
       "      <th>work_type_Self-employed</th>\n",
       "      <th>smoking_status_never smoked</th>\n",
       "      <th>smoking_status_Unknown</th>\n",
       "    </tr>\n",
       "  </thead>\n",
       "  <tbody>\n",
       "    <tr>\n",
       "      <th>0</th>\n",
       "      <td>0.975586</td>\n",
       "      <td>0.449438</td>\n",
       "      <td>0.596774</td>\n",
       "      <td>0.0</td>\n",
       "      <td>1.0</td>\n",
       "      <td>0.0</td>\n",
       "      <td>1.0</td>\n",
       "      <td>0.0</td>\n",
       "      <td>1.0</td>\n",
       "      <td>0.0</td>\n",
       "    </tr>\n",
       "    <tr>\n",
       "      <th>1</th>\n",
       "      <td>0.902344</td>\n",
       "      <td>0.132443</td>\n",
       "      <td>0.459677</td>\n",
       "      <td>1.0</td>\n",
       "      <td>1.0</td>\n",
       "      <td>0.0</td>\n",
       "      <td>1.0</td>\n",
       "      <td>0.0</td>\n",
       "      <td>1.0</td>\n",
       "      <td>0.0</td>\n",
       "    </tr>\n",
       "    <tr>\n",
       "      <th>2</th>\n",
       "      <td>0.841309</td>\n",
       "      <td>0.347430</td>\n",
       "      <td>0.336022</td>\n",
       "      <td>0.0</td>\n",
       "      <td>0.0</td>\n",
       "      <td>1.0</td>\n",
       "      <td>0.0</td>\n",
       "      <td>0.0</td>\n",
       "      <td>1.0</td>\n",
       "      <td>0.0</td>\n",
       "    </tr>\n",
       "    <tr>\n",
       "      <th>3</th>\n",
       "      <td>0.951172</td>\n",
       "      <td>0.030523</td>\n",
       "      <td>0.373656</td>\n",
       "      <td>0.0</td>\n",
       "      <td>1.0</td>\n",
       "      <td>1.0</td>\n",
       "      <td>0.0</td>\n",
       "      <td>0.0</td>\n",
       "      <td>0.0</td>\n",
       "      <td>1.0</td>\n",
       "    </tr>\n",
       "    <tr>\n",
       "      <th>4</th>\n",
       "      <td>0.987793</td>\n",
       "      <td>0.223923</td>\n",
       "      <td>0.521505</td>\n",
       "      <td>1.0</td>\n",
       "      <td>1.0</td>\n",
       "      <td>0.0</td>\n",
       "      <td>0.0</td>\n",
       "      <td>0.0</td>\n",
       "      <td>1.0</td>\n",
       "      <td>0.0</td>\n",
       "    </tr>\n",
       "    <tr>\n",
       "      <th>...</th>\n",
       "      <td>...</td>\n",
       "      <td>...</td>\n",
       "      <td>...</td>\n",
       "      <td>...</td>\n",
       "      <td>...</td>\n",
       "      <td>...</td>\n",
       "      <td>...</td>\n",
       "      <td>...</td>\n",
       "      <td>...</td>\n",
       "      <td>...</td>\n",
       "    </tr>\n",
       "    <tr>\n",
       "      <th>7004</th>\n",
       "      <td>0.902344</td>\n",
       "      <td>0.157834</td>\n",
       "      <td>0.564516</td>\n",
       "      <td>0.0</td>\n",
       "      <td>1.0</td>\n",
       "      <td>1.0</td>\n",
       "      <td>1.0</td>\n",
       "      <td>0.0</td>\n",
       "      <td>0.0</td>\n",
       "      <td>0.0</td>\n",
       "    </tr>\n",
       "    <tr>\n",
       "      <th>7005</th>\n",
       "      <td>0.719238</td>\n",
       "      <td>0.556578</td>\n",
       "      <td>0.677419</td>\n",
       "      <td>0.0</td>\n",
       "      <td>1.0</td>\n",
       "      <td>0.0</td>\n",
       "      <td>1.0</td>\n",
       "      <td>1.0</td>\n",
       "      <td>0.0</td>\n",
       "      <td>0.0</td>\n",
       "    </tr>\n",
       "    <tr>\n",
       "      <th>7006</th>\n",
       "      <td>0.926758</td>\n",
       "      <td>0.751836</td>\n",
       "      <td>0.526882</td>\n",
       "      <td>0.0</td>\n",
       "      <td>1.0</td>\n",
       "      <td>1.0</td>\n",
       "      <td>1.0</td>\n",
       "      <td>0.0</td>\n",
       "      <td>0.0</td>\n",
       "      <td>0.0</td>\n",
       "    </tr>\n",
       "    <tr>\n",
       "      <th>7007</th>\n",
       "      <td>0.987793</td>\n",
       "      <td>0.134301</td>\n",
       "      <td>0.416667</td>\n",
       "      <td>0.0</td>\n",
       "      <td>0.0</td>\n",
       "      <td>1.0</td>\n",
       "      <td>0.0</td>\n",
       "      <td>0.0</td>\n",
       "      <td>0.0</td>\n",
       "      <td>0.0</td>\n",
       "    </tr>\n",
       "    <tr>\n",
       "      <th>7008</th>\n",
       "      <td>0.890137</td>\n",
       "      <td>0.139963</td>\n",
       "      <td>0.647849</td>\n",
       "      <td>0.0</td>\n",
       "      <td>1.0</td>\n",
       "      <td>1.0</td>\n",
       "      <td>0.0</td>\n",
       "      <td>1.0</td>\n",
       "      <td>1.0</td>\n",
       "      <td>0.0</td>\n",
       "    </tr>\n",
       "  </tbody>\n",
       "</table>\n",
       "<p>7009 rows × 10 columns</p>\n",
       "</div>"
      ],
      "text/plain": [
       "           age  avg_glucose_level       bmi  hypertension  ever_married  \\\n",
       "0     0.975586           0.449438  0.596774           0.0           1.0   \n",
       "1     0.902344           0.132443  0.459677           1.0           1.0   \n",
       "2     0.841309           0.347430  0.336022           0.0           0.0   \n",
       "3     0.951172           0.030523  0.373656           0.0           1.0   \n",
       "4     0.987793           0.223923  0.521505           1.0           1.0   \n",
       "...        ...                ...       ...           ...           ...   \n",
       "7004  0.902344           0.157834  0.564516           0.0           1.0   \n",
       "7005  0.719238           0.556578  0.677419           0.0           1.0   \n",
       "7006  0.926758           0.751836  0.526882           0.0           1.0   \n",
       "7007  0.987793           0.134301  0.416667           0.0           0.0   \n",
       "7008  0.890137           0.139963  0.647849           0.0           1.0   \n",
       "\n",
       "      Residence_type  gender  work_type_Self-employed  \\\n",
       "0                0.0     1.0                      0.0   \n",
       "1                0.0     1.0                      0.0   \n",
       "2                1.0     0.0                      0.0   \n",
       "3                1.0     0.0                      0.0   \n",
       "4                0.0     0.0                      0.0   \n",
       "...              ...     ...                      ...   \n",
       "7004             1.0     1.0                      0.0   \n",
       "7005             0.0     1.0                      1.0   \n",
       "7006             1.0     1.0                      0.0   \n",
       "7007             1.0     0.0                      0.0   \n",
       "7008             1.0     0.0                      1.0   \n",
       "\n",
       "      smoking_status_never smoked  smoking_status_Unknown  \n",
       "0                             1.0                     0.0  \n",
       "1                             1.0                     0.0  \n",
       "2                             1.0                     0.0  \n",
       "3                             0.0                     1.0  \n",
       "4                             1.0                     0.0  \n",
       "...                           ...                     ...  \n",
       "7004                          0.0                     0.0  \n",
       "7005                          0.0                     0.0  \n",
       "7006                          0.0                     0.0  \n",
       "7007                          0.0                     0.0  \n",
       "7008                          1.0                     0.0  \n",
       "\n",
       "[7009 rows x 10 columns]"
      ]
     },
     "execution_count": 25,
     "metadata": {},
     "output_type": "execute_result"
    }
   ],
   "source": [
    "Data= Data.iloc[:,fs_indices_rfi]\n",
    "Data"
   ]
  },
  {
   "cell_type": "markdown",
   "metadata": {},
   "source": [
    "### Train-Test Splitting "
   ]
  },
  {
   "cell_type": "markdown",
   "metadata": {},
   "source": [
    "The scaled dataset has **7009 observations** and **10 columns** which is divided into train and test partitions with a 70:30 ratio using stratification on target variable. Shape of trained data and test data is found using `shape` method."
   ]
  },
  {
   "cell_type": "code",
   "execution_count": 26,
   "metadata": {},
   "outputs": [],
   "source": [
    "from sklearn.model_selection import train_test_split\n",
    "\n",
    "D_train,D_test,t_train,t_test=train_test_split(Data,target_ros,test_size=0.3,stratify = target_ros, random_state=999)"
   ]
  },
  {
   "cell_type": "code",
   "execution_count": 27,
   "metadata": {},
   "outputs": [
    {
     "data": {
      "text/plain": [
       "(4906, 10)"
      ]
     },
     "execution_count": 27,
     "metadata": {},
     "output_type": "execute_result"
    }
   ],
   "source": [
    "D_train.shape"
   ]
  },
  {
   "cell_type": "code",
   "execution_count": 28,
   "metadata": {},
   "outputs": [
    {
     "data": {
      "text/plain": [
       "(2103, 10)"
      ]
     },
     "execution_count": 28,
     "metadata": {},
     "output_type": "execute_result"
    }
   ],
   "source": [
    "D_test.shape"
   ]
  },
  {
   "cell_type": "code",
   "execution_count": 29,
   "metadata": {},
   "outputs": [
    {
     "data": {
      "text/plain": [
       "(4906,)"
      ]
     },
     "execution_count": 29,
     "metadata": {},
     "output_type": "execute_result"
    }
   ],
   "source": [
    "t_train.shape"
   ]
  },
  {
   "cell_type": "code",
   "execution_count": 30,
   "metadata": {},
   "outputs": [
    {
     "data": {
      "text/plain": [
       "(2103,)"
      ]
     },
     "execution_count": 30,
     "metadata": {},
     "output_type": "execute_result"
    }
   ],
   "source": [
    "t_test.shape"
   ]
  },
  {
   "cell_type": "markdown",
   "metadata": {},
   "source": [
    "## <span style=\"color: #0099cc;\">Model Fitting and Tuning <a class=\"anchor\" id=\"6\"></a> "
   ]
  },
  {
   "cell_type": "markdown",
   "metadata": {},
   "source": [
    "### Model Evaluation Strategy"
   ]
  },
  {
   "cell_type": "markdown",
   "metadata": {},
   "source": [
    "* Training and tuning the models on **4906** rows of training data and on **2103** rows of test data.<br/>\n",
    "* For each model, **5-fold RepeatedKFold** cross-validation evaluation method is applied on the training data."
   ]
  },
  {
   "cell_type": "code",
   "execution_count": 31,
   "metadata": {},
   "outputs": [],
   "source": [
    "from sklearn.model_selection import RepeatedKFold, GridSearchCV\n",
    "\n",
    "\n",
    "cv_method = RepeatedKFold(n_splits=5, \n",
    "                          n_repeats=3, \n",
    "                          random_state=999)"
   ]
  },
  {
   "cell_type": "markdown",
   "metadata": {},
   "source": [
    "### Hyperparameter Tuning "
   ]
  },
  {
   "cell_type": "markdown",
   "metadata": {},
   "source": [
    "#### K-Nearest Neighbors (KNN)\n",
    "\n",
    "* A grid search is performed for **10 best features** over the following KNN hyperparameters: \n",
    "    * **Number of neighbors** - <code>1, 2, 3, 4, 5, 6, 7</code>\n",
    "    * **Distance metric (p)** - <code>1,2,5</code> \n",
    "<br/>"
   ]
  },
  {
   "cell_type": "code",
   "execution_count": 32,
   "metadata": {},
   "outputs": [],
   "source": [
    "params_KNN = {'n_neighbors': [1, 2, 3, 4, 5, 6, 7], \n",
    "              'p': [1, 2, 5]\n",
    "              \n",
    "            }"
   ]
  },
  {
   "cell_type": "markdown",
   "metadata": {},
   "source": [
    "* The **KNN model** is fit and it's **hyperparameters** are optimised using the grid search."
   ]
  },
  {
   "cell_type": "code",
   "execution_count": 33,
   "metadata": {},
   "outputs": [],
   "source": [
    "from sklearn.model_selection import GridSearchCV\n",
    "from sklearn.neighbors import KNeighborsClassifier\n",
    "\n",
    "gs_KNN = GridSearchCV(estimator=KNeighborsClassifier(), \n",
    "                      param_grid=params_KNN, \n",
    "                      cv=cv_method,\n",
    "                      verbose=1,  # verbose: the higher, the more messages\n",
    "                      scoring='accuracy', \n",
    "                      return_train_score=True)"
   ]
  },
  {
   "cell_type": "code",
   "execution_count": 34,
   "metadata": {},
   "outputs": [
    {
     "name": "stdout",
     "output_type": "stream",
     "text": [
      "Fitting 15 folds for each of 21 candidates, totalling 315 fits\n"
     ]
    },
    {
     "data": {
      "text/plain": [
       "GridSearchCV(cv=RepeatedKFold(n_repeats=3, n_splits=5, random_state=999),\n",
       "             estimator=KNeighborsClassifier(),\n",
       "             param_grid={'n_neighbors': [1, 2, 3, 4, 5, 6, 7], 'p': [1, 2, 5]},\n",
       "             return_train_score=True, scoring='accuracy', verbose=1)"
      ]
     },
     "execution_count": 34,
     "metadata": {},
     "output_type": "execute_result"
    }
   ],
   "source": [
    "gs_KNN.fit(D_train,t_train)"
   ]
  },
  {
   "cell_type": "code",
   "execution_count": 35,
   "metadata": {},
   "outputs": [
    {
     "data": {
      "text/plain": [
       "{'n_neighbors': 1, 'p': 1}"
      ]
     },
     "execution_count": 35,
     "metadata": {},
     "output_type": "execute_result"
    }
   ],
   "source": [
    "gs_KNN.best_params_"
   ]
  },
  {
   "cell_type": "markdown",
   "metadata": {},
   "source": [
    "The best performing parameter combination are found using `best_params_`.\n",
    "  * **Number of neighbors** &nbsp;<code>1</code>\n",
    "  * **Distance metric** &nbsp;<code>2</code> which is Manhattan distance"
   ]
  },
  {
   "cell_type": "code",
   "execution_count": 36,
   "metadata": {},
   "outputs": [
    {
     "data": {
      "text/plain": [
       "0.9745210596721277"
      ]
     },
     "execution_count": 36,
     "metadata": {},
     "output_type": "execute_result"
    }
   ],
   "source": [
    "gs_KNN.best_score_"
   ]
  },
  {
   "cell_type": "markdown",
   "metadata": {},
   "source": [
    "* We can say that the optimal **KNN model** has a <b>accuracy</b> score of **0.9720**.\n",
    "* The best performing **KNN** for 10 features with **1 nearest neighbors** and  p=2 , which is the **Euclidean distance**."
   ]
  },
  {
   "cell_type": "code",
   "execution_count": 37,
   "metadata": {},
   "outputs": [
    {
     "data": {
      "text/plain": [
       "array([0.97452106, 0.97377325, 0.97302585, 0.97452106, 0.97377325,\n",
       "       0.97302585, 0.94836309, 0.94999339, 0.94843071, 0.94822718,\n",
       "       0.94985748, 0.94829479, 0.92539735, 0.92614433, 0.92811428,\n",
       "       0.92505756, 0.92580454, 0.92777449, 0.9066443 , 0.90820643,\n",
       "       0.90827425])"
      ]
     },
     "execution_count": 37,
     "metadata": {},
     "output_type": "execute_result"
    }
   ],
   "source": [
    "gs_KNN.cv_results_['mean_test_score']"
   ]
  },
  {
   "cell_type": "markdown",
   "metadata": {},
   "source": [
    "* Creating a **dataframe** with **parameters** by combining <code>gs.cv_results_['params']</code> and <code>gs.cv_results_['mean_test_score']</code>. The <code>gs.cv_results_['params']</code> is an array of hyperparameter combinations "
   ]
  },
  {
   "cell_type": "code",
   "execution_count": 38,
   "metadata": {},
   "outputs": [],
   "source": [
    "results_KNN = pd.DataFrame(gs_KNN.cv_results_['params'])"
   ]
  },
  {
   "cell_type": "code",
   "execution_count": 39,
   "metadata": {},
   "outputs": [],
   "source": [
    "results_KNN['test_score'] = gs_KNN.cv_results_['mean_test_score']"
   ]
  },
  {
   "cell_type": "markdown",
   "metadata": {},
   "source": [
    "* Create a new column named **metric** that stores the name of the metric for each  p  value."
   ]
  },
  {
   "cell_type": "code",
   "execution_count": 40,
   "metadata": {},
   "outputs": [
    {
     "data": {
      "text/html": [
       "<div>\n",
       "<style scoped>\n",
       "    .dataframe tbody tr th:only-of-type {\n",
       "        vertical-align: middle;\n",
       "    }\n",
       "\n",
       "    .dataframe tbody tr th {\n",
       "        vertical-align: top;\n",
       "    }\n",
       "\n",
       "    .dataframe thead th {\n",
       "        text-align: right;\n",
       "    }\n",
       "</style>\n",
       "<table border=\"1\" class=\"dataframe\">\n",
       "  <thead>\n",
       "    <tr style=\"text-align: right;\">\n",
       "      <th></th>\n",
       "      <th>n_neighbors</th>\n",
       "      <th>p</th>\n",
       "      <th>test_score</th>\n",
       "      <th>metric</th>\n",
       "    </tr>\n",
       "  </thead>\n",
       "  <tbody>\n",
       "    <tr>\n",
       "      <th>0</th>\n",
       "      <td>1</td>\n",
       "      <td>1</td>\n",
       "      <td>0.974521</td>\n",
       "      <td>Manhattan</td>\n",
       "    </tr>\n",
       "    <tr>\n",
       "      <th>1</th>\n",
       "      <td>1</td>\n",
       "      <td>2</td>\n",
       "      <td>0.973773</td>\n",
       "      <td>Euclidean</td>\n",
       "    </tr>\n",
       "    <tr>\n",
       "      <th>2</th>\n",
       "      <td>1</td>\n",
       "      <td>5</td>\n",
       "      <td>0.973026</td>\n",
       "      <td>Minkowski</td>\n",
       "    </tr>\n",
       "    <tr>\n",
       "      <th>3</th>\n",
       "      <td>2</td>\n",
       "      <td>1</td>\n",
       "      <td>0.974521</td>\n",
       "      <td>Manhattan</td>\n",
       "    </tr>\n",
       "    <tr>\n",
       "      <th>4</th>\n",
       "      <td>2</td>\n",
       "      <td>2</td>\n",
       "      <td>0.973773</td>\n",
       "      <td>Euclidean</td>\n",
       "    </tr>\n",
       "    <tr>\n",
       "      <th>5</th>\n",
       "      <td>2</td>\n",
       "      <td>5</td>\n",
       "      <td>0.973026</td>\n",
       "      <td>Minkowski</td>\n",
       "    </tr>\n",
       "    <tr>\n",
       "      <th>6</th>\n",
       "      <td>3</td>\n",
       "      <td>1</td>\n",
       "      <td>0.948363</td>\n",
       "      <td>Manhattan</td>\n",
       "    </tr>\n",
       "    <tr>\n",
       "      <th>7</th>\n",
       "      <td>3</td>\n",
       "      <td>2</td>\n",
       "      <td>0.949993</td>\n",
       "      <td>Euclidean</td>\n",
       "    </tr>\n",
       "    <tr>\n",
       "      <th>8</th>\n",
       "      <td>3</td>\n",
       "      <td>5</td>\n",
       "      <td>0.948431</td>\n",
       "      <td>Minkowski</td>\n",
       "    </tr>\n",
       "    <tr>\n",
       "      <th>9</th>\n",
       "      <td>4</td>\n",
       "      <td>1</td>\n",
       "      <td>0.948227</td>\n",
       "      <td>Manhattan</td>\n",
       "    </tr>\n",
       "    <tr>\n",
       "      <th>10</th>\n",
       "      <td>4</td>\n",
       "      <td>2</td>\n",
       "      <td>0.949857</td>\n",
       "      <td>Euclidean</td>\n",
       "    </tr>\n",
       "    <tr>\n",
       "      <th>11</th>\n",
       "      <td>4</td>\n",
       "      <td>5</td>\n",
       "      <td>0.948295</td>\n",
       "      <td>Minkowski</td>\n",
       "    </tr>\n",
       "    <tr>\n",
       "      <th>12</th>\n",
       "      <td>5</td>\n",
       "      <td>1</td>\n",
       "      <td>0.925397</td>\n",
       "      <td>Manhattan</td>\n",
       "    </tr>\n",
       "    <tr>\n",
       "      <th>13</th>\n",
       "      <td>5</td>\n",
       "      <td>2</td>\n",
       "      <td>0.926144</td>\n",
       "      <td>Euclidean</td>\n",
       "    </tr>\n",
       "    <tr>\n",
       "      <th>14</th>\n",
       "      <td>5</td>\n",
       "      <td>5</td>\n",
       "      <td>0.928114</td>\n",
       "      <td>Minkowski</td>\n",
       "    </tr>\n",
       "    <tr>\n",
       "      <th>15</th>\n",
       "      <td>6</td>\n",
       "      <td>1</td>\n",
       "      <td>0.925058</td>\n",
       "      <td>Manhattan</td>\n",
       "    </tr>\n",
       "    <tr>\n",
       "      <th>16</th>\n",
       "      <td>6</td>\n",
       "      <td>2</td>\n",
       "      <td>0.925805</td>\n",
       "      <td>Euclidean</td>\n",
       "    </tr>\n",
       "    <tr>\n",
       "      <th>17</th>\n",
       "      <td>6</td>\n",
       "      <td>5</td>\n",
       "      <td>0.927774</td>\n",
       "      <td>Minkowski</td>\n",
       "    </tr>\n",
       "    <tr>\n",
       "      <th>18</th>\n",
       "      <td>7</td>\n",
       "      <td>1</td>\n",
       "      <td>0.906644</td>\n",
       "      <td>Manhattan</td>\n",
       "    </tr>\n",
       "    <tr>\n",
       "      <th>19</th>\n",
       "      <td>7</td>\n",
       "      <td>2</td>\n",
       "      <td>0.908206</td>\n",
       "      <td>Euclidean</td>\n",
       "    </tr>\n",
       "    <tr>\n",
       "      <th>20</th>\n",
       "      <td>7</td>\n",
       "      <td>5</td>\n",
       "      <td>0.908274</td>\n",
       "      <td>Minkowski</td>\n",
       "    </tr>\n",
       "  </tbody>\n",
       "</table>\n",
       "</div>"
      ],
      "text/plain": [
       "    n_neighbors  p  test_score     metric\n",
       "0             1  1    0.974521  Manhattan\n",
       "1             1  2    0.973773  Euclidean\n",
       "2             1  5    0.973026  Minkowski\n",
       "3             2  1    0.974521  Manhattan\n",
       "4             2  2    0.973773  Euclidean\n",
       "5             2  5    0.973026  Minkowski\n",
       "6             3  1    0.948363  Manhattan\n",
       "7             3  2    0.949993  Euclidean\n",
       "8             3  5    0.948431  Minkowski\n",
       "9             4  1    0.948227  Manhattan\n",
       "10            4  2    0.949857  Euclidean\n",
       "11            4  5    0.948295  Minkowski\n",
       "12            5  1    0.925397  Manhattan\n",
       "13            5  2    0.926144  Euclidean\n",
       "14            5  5    0.928114  Minkowski\n",
       "15            6  1    0.925058  Manhattan\n",
       "16            6  2    0.925805  Euclidean\n",
       "17            6  5    0.927774  Minkowski\n",
       "18            7  1    0.906644  Manhattan\n",
       "19            7  2    0.908206  Euclidean\n",
       "20            7  5    0.908274  Minkowski"
      ]
     },
     "execution_count": 40,
     "metadata": {},
     "output_type": "execute_result"
    }
   ],
   "source": [
    "results_KNN['metric'] = results_KNN['p'].replace([1,2,5], [\"Manhattan\", \"Euclidean\", \"Minkowski\"])\n",
    "results_KNN"
   ]
  },
  {
   "cell_type": "markdown",
   "metadata": {},
   "source": [
    "* **Visualize** the results of **KNN model** grid search using the <code>matplotlib</code> module."
   ]
  },
  {
   "cell_type": "code",
   "execution_count": 41,
   "metadata": {},
   "outputs": [
    {
     "data": {
      "image/png": "[encoded data removed]",
      "text/plain": [
       "<Figure size 432x288 with 1 Axes>"
      ]
     },
     "metadata": {
      "image/png": {
       "height": 281,
       "width": 394
      }
     },
     "output_type": "display_data"
    }
   ],
   "source": [
    "import matplotlib.pyplot as plt\n",
    "%matplotlib inline \n",
    "%config InlineBackend.figure_format = 'retina'\n",
    "plt.style.use(\"ggplot\")\n",
    "\n",
    "for i in [\"Manhattan\", \"Euclidean\", \"Minkowski\"]:\n",
    "    temp = results_KNN[results_KNN['metric'] == i]\n",
    "    plt.plot(temp['n_neighbors'], temp['test_score'], marker = '.', label = i)\n",
    "    \n",
    "plt.legend()\n",
    "plt.xlabel('Number of Neighbors')\n",
    "plt.ylabel(\"Mean CV Score\")\n",
    "plt.title(\"KNN Performance Comparison\")\n",
    "plt.show()"
   ]
  },
  {
   "cell_type": "markdown",
   "metadata": {},
   "source": [
    "* The **plot**  shows that **K = 1** with the **Euclidean distance metric (p=1)** is better than other combinations."
   ]
  },
  {
   "cell_type": "markdown",
   "metadata": {},
   "source": [
    "### Decision Tree "
   ]
  },
  {
   "cell_type": "markdown",
   "metadata": {},
   "source": [
    "* A grid search is performed for **10 best features** over the following Decision Tree hyperparameters: \n",
    "    * **split criterion** - <code>Entropy , Gini</code>\n",
    "    * **maximum depth** - <code>1, 2, 3, 4, 5, 10, 15</code>\n",
    "    * **minimum samples split** - <code>2, 3</code> \n",
    "    \n",
    "* The decision tree model is fit and its hyperparameters are optimised using the grid search."
   ]
  },
  {
   "cell_type": "code",
   "execution_count": 42,
   "metadata": {},
   "outputs": [
    {
     "name": "stdout",
     "output_type": "stream",
     "text": [
      "Fitting 15 folds for each of 32 candidates, totalling 480 fits\n"
     ]
    }
   ],
   "source": [
    "from sklearn.tree import DecisionTreeClassifier\n",
    "\n",
    "df_classifier = DecisionTreeClassifier(random_state=999)\n",
    "\n",
    "params_DT = {'criterion': ['gini', 'entropy'],\n",
    "             'max_depth': [1, 2, 3, 4, 5, 6, 7, 8],\n",
    "             'min_samples_split': [2, 3]\n",
    "            }\n",
    "\n",
    "gs_DT = GridSearchCV(estimator=df_classifier, \n",
    "                     param_grid=params_DT, \n",
    "                     cv=cv_method,\n",
    "                     verbose=1, \n",
    "                     scoring='accuracy')\n",
    "\n",
    "gs_DT.fit(D_train, t_train);"
   ]
  },
  {
   "cell_type": "code",
   "execution_count": 43,
   "metadata": {},
   "outputs": [
    {
     "data": {
      "text/plain": [
       "{'criterion': 'gini', 'max_depth': 8, 'min_samples_split': 2}"
      ]
     },
     "execution_count": 43,
     "metadata": {},
     "output_type": "execute_result"
    }
   ],
   "source": [
    "gs_DT.best_params_"
   ]
  },
  {
   "cell_type": "markdown",
   "metadata": {},
   "source": [
    "* The best performing **Decision tree** model has hyperparameters combination as follows:\n",
    "    * **split criterion** - <code>gini</code> \n",
    "    * **maximum depth** - <code>8</code>\n",
    "    * **minimum samples split** - <code>2</code>"
   ]
  },
  {
   "cell_type": "code",
   "execution_count": 44,
   "metadata": {},
   "outputs": [
    {
     "data": {
      "text/plain": [
       "0.8813684029140223"
      ]
     },
     "execution_count": 44,
     "metadata": {},
     "output_type": "execute_result"
    }
   ],
   "source": [
    "gs_DT.best_score_"
   ]
  },
  {
   "cell_type": "markdown",
   "metadata": {},
   "source": [
    "* We can say that the optimal **Decision Tree model** has a <b>accuracy</b> score of **0.8798**.\n",
    "* The optimal value is obtained for 10 features with **gini** split criterion  **maximum depth =2** and **minimum samples split =2**.\n"
   ]
  },
  {
   "cell_type": "markdown",
   "metadata": {},
   "source": [
    "* Create new **data frame** to store the **Decision tree** grid search results for visualization."
   ]
  },
  {
   "cell_type": "code",
   "execution_count": 45,
   "metadata": {},
   "outputs": [
    {
     "data": {
      "text/plain": [
       "Index(['criterion', 'max_depth', 'min_samples_split', 'test_score'], dtype='object')"
      ]
     },
     "execution_count": 45,
     "metadata": {},
     "output_type": "execute_result"
    }
   ],
   "source": [
    "results_DT = pd.DataFrame(gs_DT.cv_results_['params'])\n",
    "results_DT['test_score'] = gs_DT.cv_results_['mean_test_score']\n",
    "results_DT.columns"
   ]
  },
  {
   "cell_type": "markdown",
   "metadata": {},
   "source": [
    "* **Visualize** the results of decision tree grid search using the <code>matplotlib</code> module for split criterionn **Gini** and **Entropy**."
   ]
  },
  {
   "cell_type": "code",
   "execution_count": 46,
   "metadata": {},
   "outputs": [
    {
     "data": {
      "image/png": "[encoded data removed]",
      "text/plain": [
       "<Figure size 432x288 with 1 Axes>"
      ]
     },
     "metadata": {
      "image/png": {
       "height": 281,
       "width": 400
      }
     },
     "output_type": "display_data"
    }
   ],
   "source": [
    "for i in ['gini', 'entropy']:\n",
    "    temp = results_DT[results_DT['criterion'] == i]\n",
    "    temp_average = temp.groupby('max_depth').agg({'test_score': 'mean'})\n",
    "    plt.plot(temp_average, marker = '.', label = i)\n",
    "    \n",
    "    \n",
    "plt.legend()\n",
    "plt.xlabel('Max Depth')\n",
    "plt.ylabel(\"Mean CV Score\")\n",
    "plt.title(\"DT Performance Comparison\")\n",
    "plt.show()"
   ]
  },
  {
   "cell_type": "markdown",
   "metadata": {},
   "source": [
    "* We can observe that **gini** will give better mean CV score results than **entropy** split criterion."
   ]
  },
  {
   "cell_type": "markdown",
   "metadata": {},
   "source": [
    "### Naive Bayes "
   ]
  },
  {
   "cell_type": "markdown",
   "metadata": {},
   "source": [
    "Trained data is transformed using the <b>power transformation</b> on each feature to make it more or less normally distributed as Gaussian Naive Bayes Model requires each descriptive features follow a normal distribution.\n",
    "\n",
    "* A grid search is performed for 10 best features over the following over the following Naive Bayes hyperparameter\n",
    "    * **Var smoothing** - From <code>10</code> to <code>10<sup>−6</sup></code> with `100` different values.\n"
   ]
  },
  {
   "cell_type": "code",
   "execution_count": 47,
   "metadata": {},
   "outputs": [
    {
     "name": "stdout",
     "output_type": "stream",
     "text": [
      "            x distribution\n",
      "342 -0.276524  transformed\n",
      "321  3.216755  exponential\n",
      "247  1.297923  transformed\n",
      "514 -1.678249  transformed\n",
      "343  0.204341  exponential\n",
      "386  0.486638  exponential\n",
      "304  0.883091  exponential\n",
      "772  0.015391  exponential\n",
      "889  0.184597  transformed\n",
      "554  0.076667  exponential\n"
     ]
    }
   ],
   "source": [
    "import numpy as np\n",
    "from sklearn.preprocessing import PowerTransformer\n",
    "\n",
    "np.random.seed(999)\n",
    "\n",
    "sample_size = 1000\n",
    "x_exponential = np.random.exponential(2, sample_size).reshape(-1, 1)\n",
    "x_transformed = PowerTransformer().fit_transform(x_exponential)\n",
    "\n",
    "df1 = pd.DataFrame(x_exponential)\n",
    "df1['distribution'] = 'exponential'\n",
    "\n",
    "df2 = pd.DataFrame(x_transformed)\n",
    "df2['distribution'] = 'transformed'\n",
    "\n",
    "# combine the two data frames into one to be used for plotting\n",
    "df = pd.concat([df1, df2], axis=0)\n",
    "df.rename(columns={0: 'x'}, inplace=True)\n",
    "\n",
    "print(df.sample(n=10))"
   ]
  },
  {
   "cell_type": "markdown",
   "metadata": {},
   "source": [
    "* **Power transformed** numbers are centered at 0 and their distribution look like **bell-curved**"
   ]
  },
  {
   "cell_type": "code",
   "execution_count": 48,
   "metadata": {},
   "outputs": [
    {
     "data": {
      "image/png": "[encoded data removed]",
      "text/plain": [
       "<Figure size 432x288 with 1 Axes>"
      ]
     },
     "metadata": {
      "image/png": {
       "height": 281,
       "width": 391
      }
     },
     "output_type": "display_data"
    }
   ],
   "source": [
    "for i in ['exponential', 'transformed']:\n",
    "    temp = df[df['distribution']==i]\n",
    "    plt.hist(temp['x'], alpha = 0.9, bins =30, label = i)\n",
    "\n",
    "plt.xlabel('x (binned)')\n",
    "plt.ylabel('Number of Records')\n",
    "plt.title('Power Transformation Example')\n",
    "plt.legend()\n",
    "plt.show()"
   ]
  },
  {
   "cell_type": "code",
   "execution_count": 49,
   "metadata": {},
   "outputs": [
    {
     "data": {
      "text/plain": [
       "array([1.e+00, 1.e-01, 1.e-02, 1.e-03, 1.e-04, 1.e-05, 1.e-06, 1.e-07,\n",
       "       1.e-08, 1.e-09])"
      ]
     },
     "execution_count": 49,
     "metadata": {},
     "output_type": "execute_result"
    }
   ],
   "source": [
    "np.logspace(0,-9, num=10)"
   ]
  },
  {
   "cell_type": "markdown",
   "metadata": {},
   "source": [
    "* The **Gaussian Naive Bayes Model** model is fit and it's **hyperparameters** are optimised using the grid search."
   ]
  },
  {
   "cell_type": "code",
   "execution_count": 50,
   "metadata": {},
   "outputs": [
    {
     "name": "stdout",
     "output_type": "stream",
     "text": [
      "Fitting 15 folds for each of 100 candidates, totalling 1500 fits\n"
     ]
    }
   ],
   "source": [
    "from sklearn.naive_bayes import GaussianNB\n",
    "\n",
    "np.random.seed(999)\n",
    "\n",
    "nb_classifier = GaussianNB()\n",
    "\n",
    "params_NB = {'var_smoothing': np.logspace(0,-9, num=100)}\n",
    "\n",
    "gs_NB = GridSearchCV(estimator=nb_classifier, \n",
    "                     param_grid=params_NB, \n",
    "                     cv=cv_method,\n",
    "                     verbose=1, \n",
    "                     scoring='accuracy')\n",
    "\n",
    "Data_transformed = PowerTransformer().fit_transform(D_train)\n",
    "\n",
    "gs_NB.fit(Data_transformed, t_train);"
   ]
  },
  {
   "cell_type": "code",
   "execution_count": 51,
   "metadata": {},
   "outputs": [
    {
     "data": {
      "text/plain": [
       "{'var_smoothing': 1.0}"
      ]
     },
     "execution_count": 51,
     "metadata": {},
     "output_type": "execute_result"
    }
   ],
   "source": [
    "gs_NB.best_params_"
   ]
  },
  {
   "cell_type": "code",
   "execution_count": 52,
   "metadata": {},
   "outputs": [
    {
     "data": {
      "text/plain": [
       "0.7185772031116675"
      ]
     },
     "execution_count": 52,
     "metadata": {},
     "output_type": "execute_result"
    }
   ],
   "source": [
    "gs_NB.best_score_"
   ]
  },
  {
   "cell_type": "markdown",
   "metadata": {},
   "source": [
    "* We can say that the optimal **Gaussian Naive Bayes model** has a <b>accuracy</b> score of **0.7227**.\n",
    "* The optimal value is obtained with **var_smoothing** valued **0.00231**."
   ]
  },
  {
   "cell_type": "markdown",
   "metadata": {},
   "source": [
    "* Create new **data frame** to store the **Gaussian Naive Bayes** model grid search results for visualization."
   ]
  },
  {
   "cell_type": "code",
   "execution_count": 53,
   "metadata": {},
   "outputs": [],
   "source": [
    "results_NB = pd.DataFrame(gs_NB.cv_results_['params'])\n",
    "results_NB['test_score'] = gs_NB.cv_results_['mean_test_score']"
   ]
  },
  {
   "cell_type": "markdown",
   "metadata": {},
   "source": [
    "* **Visualize** the results of Naive Bayes grid search using the <code>matplotlib</code> module"
   ]
  },
  {
   "cell_type": "code",
   "execution_count": 54,
   "metadata": {},
   "outputs": [
    {
     "data": {
      "image/png": "[encoded data removed]",
      "text/plain": [
       "<Figure size 432x288 with 1 Axes>"
      ]
     },
     "metadata": {
      "image/png": {
       "height": 281,
       "width": 400
      }
     },
     "output_type": "display_data"
    }
   ],
   "source": [
    "plt.plot(results_NB['var_smoothing'], results_NB['test_score'], marker = '.')    \n",
    "plt.xlabel('Var. Smoothing')\n",
    "plt.ylabel(\"Mean CV Score\")\n",
    "plt.title(\"NB Performance Comparison\")\n",
    "plt.show()"
   ]
  },
  {
   "cell_type": "markdown",
   "metadata": {},
   "source": [
    "We observe that the best **variance smoothing** parameter for NB is **0.002** with highest Mean CV score"
   ]
  },
  {
   "cell_type": "markdown",
   "metadata": {},
   "source": [
    "## <span style=\"color: #0099cc;\">Model Comparison <a class=\"anchor\" id=\"7\"></a> "
   ]
  },
  {
   "cell_type": "markdown",
   "metadata": {},
   "source": [
    "* Hyperparameter tuned model is fit on the test data with 2103 observations using <code>cross_val_score()</code> function\n",
    "* 10 fold RepeatedKFold cross-validation technique is used with **random_state** to 111\n",
    "* Performance of each model on test data is predicted "
   ]
  },
  {
   "cell_type": "markdown",
   "metadata": {},
   "source": [
    "### Cross-Validation on KNN Best Estimator "
   ]
  },
  {
   "cell_type": "code",
   "execution_count": 55,
   "metadata": {},
   "outputs": [
    {
     "data": {
      "text/plain": [
       "0.9519057234529827"
      ]
     },
     "execution_count": 55,
     "metadata": {},
     "output_type": "execute_result"
    }
   ],
   "source": [
    "from sklearn.model_selection import cross_val_score\n",
    "\n",
    "cv_method_ttest = RepeatedKFold(n_splits=10, random_state=111)\n",
    "\n",
    "cv_results_KNN = cross_val_score(estimator=gs_KNN.best_estimator_,\n",
    "                                 X=D_test,\n",
    "                                 y=t_test, \n",
    "                                 cv=cv_method_ttest, \n",
    "                                 n_jobs=-2,\n",
    "                                 scoring='roc_auc')\n",
    "cv_results_KNN.mean()"
   ]
  },
  {
   "cell_type": "markdown",
   "metadata": {},
   "source": [
    "### Cross-Validation on Gaussian Naive Bayes Best Estimator "
   ]
  },
  {
   "cell_type": "code",
   "execution_count": 56,
   "metadata": {},
   "outputs": [
    {
     "data": {
      "text/plain": [
       "0.8088005763892953"
      ]
     },
     "execution_count": 56,
     "metadata": {},
     "output_type": "execute_result"
    }
   ],
   "source": [
    "D_test_transformed = PowerTransformer().fit_transform(D_test)\n",
    "\n",
    "cv_results_NB = cross_val_score(estimator=gs_NB.best_estimator_,\n",
    "                                X=D_test_transformed,\n",
    "                                y=t_test, \n",
    "                                cv=cv_method_ttest, \n",
    "                                n_jobs=-2,\n",
    "                                scoring='roc_auc')\n",
    "cv_results_NB.mean()"
   ]
  },
  {
   "cell_type": "markdown",
   "metadata": {},
   "source": [
    "### Cross-Validation on Decision Tree Best Estimator "
   ]
  },
  {
   "cell_type": "code",
   "execution_count": 57,
   "metadata": {},
   "outputs": [
    {
     "data": {
      "text/plain": [
       "0.9127628858485427"
      ]
     },
     "execution_count": 57,
     "metadata": {},
     "output_type": "execute_result"
    }
   ],
   "source": [
    "cv_results_DT = cross_val_score(estimator=gs_DT.best_estimator_,\n",
    "                                X=D_test,\n",
    "                                y=t_test, \n",
    "                                cv=cv_method_ttest, \n",
    "                                n_jobs=-2,\n",
    "                                scoring='roc_auc')\n",
    "cv_results_DT.mean()"
   ]
  },
  {
   "cell_type": "markdown",
   "metadata": {},
   "source": [
    "### Paired t-test "
   ]
  },
  {
   "cell_type": "markdown",
   "metadata": {},
   "source": [
    "* Paired t-tests is performed using `stats.ttest_rel` method from **Scipy** module.\n",
    "* After performing Model Comparison on test data, Cross validation scores of each model is noted.\n",
    "* **KNN** performed the best followed by **Decision Tree** Classifier. \n",
    "* **Gaussian Naive Bayes** performed the least.\n",
    "* To verify if there is any statistical difference between the any two tuned classifiers a pairwise t-test is performed.\n",
    "\n",
    "      1)NB vs. KNN  \n",
    "      2)KNN vs. DT\n"
   ]
  },
  {
   "cell_type": "code",
   "execution_count": 58,
   "metadata": {},
   "outputs": [
    {
     "name": "stdout",
     "output_type": "stream",
     "text": [
      "Paired ttest: Gaussian Naive Bayes Vs KNN classifier \n",
      "Ttest_relResult(statistic=56.11649318366934, pvalue=7.381742738624422e-77)\n",
      "\n",
      "Paired ttest: KNN Vs Decision Tree classifier \n",
      "Ttest_relResult(statistic=-21.006788499036936, pvalue=2.918231418755156e-38)\n"
     ]
    }
   ],
   "source": [
    "from scipy import stats\n",
    "print('Paired ttest: Gaussian Naive Bayes Vs KNN classifier ')\n",
    "print(stats.ttest_rel(cv_results_KNN, cv_results_NB))\n",
    "print('\\nPaired ttest: KNN Vs Decision Tree classifier ')\n",
    "print(stats.ttest_rel(cv_results_DT, cv_results_KNN))\n"
   ]
  },
  {
   "cell_type": "markdown",
   "metadata": {},
   "source": [
    "* The paired t-test results have p-values less than 0.05 that indicates that the test is statistically significant different\n",
    "* We can conclude that **at a 95% significance level, KNN performs better than other classifiers and is statistically the best model (in terms of accuracy) when compared on test data**"
   ]
  },
  {
   "cell_type": "markdown",
   "metadata": {},
   "source": [
    "### Evaluation metrics  "
   ]
  },
  {
   "cell_type": "markdown",
   "metadata": {},
   "source": [
    "* **Model Evaluation** can also be done by parameters like accuracy ,precision ,recall ,F1 Score using <code>classification_report</code> function \n",
    "* The `accuracy`metric was used to optimize the algorithm hyperparameters and all other parameters are used to evaluate the model based on test data .\n",
    "* Different performance metric for the model can be calculated using metrics module \n",
    "* <code>confusion_matrxi</code> to check the number of times model predicted the right target level."
   ]
  },
  {
   "cell_type": "code",
   "execution_count": 59,
   "metadata": {},
   "outputs": [],
   "source": [
    "t_pred_KNN = gs_KNN.predict(D_test)\n",
    "t_pred_DT = gs_DT.predict(D_test)\n",
    "t_pred_NB = gs_NB.predict(D_test)"
   ]
  },
  {
   "cell_type": "code",
   "execution_count": 60,
   "metadata": {},
   "outputs": [
    {
     "name": "stdout",
     "output_type": "stream",
     "text": [
      "\n",
      "Classification report for K-Nearest Neighbor\n",
      "              precision    recall  f1-score   support\n",
      "\n",
      "           0       1.00      0.96      0.98      1237\n",
      "           1       0.95      1.00      0.97       866\n",
      "\n",
      "    accuracy                           0.98      2103\n",
      "   macro avg       0.97      0.98      0.98      2103\n",
      "weighted avg       0.98      0.98      0.98      2103\n",
      "\n",
      "\n",
      "Classification report for Decision Tree\n",
      "              precision    recall  f1-score   support\n",
      "\n",
      "           0       0.97      0.81      0.88      1237\n",
      "           1       0.78      0.97      0.86       866\n",
      "\n",
      "    accuracy                           0.87      2103\n",
      "   macro avg       0.88      0.89      0.87      2103\n",
      "weighted avg       0.89      0.87      0.88      2103\n",
      "\n",
      "\n",
      "Classification report for Naive Bayes\n",
      "              precision    recall  f1-score   support\n",
      "\n",
      "           0       0.95      0.39      0.55      1237\n",
      "           1       0.53      0.97      0.68       866\n",
      "\n",
      "    accuracy                           0.63      2103\n",
      "   macro avg       0.74      0.68      0.62      2103\n",
      "weighted avg       0.78      0.63      0.61      2103\n",
      "\n"
     ]
    }
   ],
   "source": [
    "from sklearn.metrics import classification_report\n",
    "print(\"\\nClassification report for K-Nearest Neighbor\")\n",
    "report_KNN =classification_report(t_test,t_pred_KNN)\n",
    "print(report_KNN)\n",
    "print(\"\\nClassification report for Decision Tree\")\n",
    "report_DT =classification_report(t_test,t_pred_DT)\n",
    "print(report_DT)\n",
    "print(\"\\nClassification report for Naive Bayes\")\n",
    "report_NB =classification_report(t_test,t_pred_NB)\n",
    "print(report_NB)\n"
   ]
  },
  {
   "cell_type": "markdown",
   "metadata": {},
   "source": [
    "* We can infer that **KNN** model has the best accuracy score ,precision ,recall and f1 score followed by **Decision tree** classifier."
   ]
  },
  {
   "cell_type": "code",
   "execution_count": 61,
   "metadata": {},
   "outputs": [
    {
     "name": "stdout",
     "output_type": "stream",
     "text": [
      "\n",
      "Confusion matrix for K-Nearest Neighbor\n",
      "[[1188   49]\n",
      " [   0  866]]\n",
      "\n",
      "Confusion matrix for Naive Bayes\n",
      "[[480 757]\n",
      " [ 23 843]]\n",
      "\n",
      "Confusion matrix for Decision Tree\n",
      "[[1001  236]\n",
      " [  28  838]]\n"
     ]
    }
   ],
   "source": [
    "from sklearn.metrics import confusion_matrix\n",
    "print(\"\\nConfusion matrix for K-Nearest Neighbor\") \n",
    "print(metrics.confusion_matrix(t_test, t_pred_KNN))\n",
    "print(\"\\nConfusion matrix for Naive Bayes\") \n",
    "print(metrics.confusion_matrix(t_test, t_pred_NB))\n",
    "print(\"\\nConfusion matrix for Decision Tree\") \n",
    "print(metrics.confusion_matrix(t_test, t_pred_DT))"
   ]
  },
  {
   "cell_type": "markdown",
   "metadata": {},
   "source": [
    "* TPR rate of **KNN** model is much higher compared to other models \n",
    "* FPR rate of **Gausian Naive Bayes** model is higher compared to other models \n",
    "* The confusion matrix revealed that **KNN** was able to predict most number of stroke prediction accurately by out performing other classifiers."
   ]
  },
  {
   "cell_type": "markdown",
   "metadata": {},
   "source": [
    "# <span style=\"color: #0099cc;\">Critique & Limitations <a class=\"anchor\" id=\"8\"></a> "
   ]
  },
  {
   "cell_type": "markdown",
   "metadata": {},
   "source": [
    "* The  Black-box approach was followed in this process the data goes in, decisions come out, but the processes between input and output are not known.\n",
    "* More detailed analysis of feature ranking and selection on taking number of parameters could have been performed .\n",
    "* RFI method could have been replaced by wrapper-based feature selection method such as SPSA which has better performance.\n",
    "* In addition, further fine tuning can be performed by taking other parameters into considerations \n",
    "* The second best performer model Decision Tree could be further improved by expanding its hyperparameter by further fine tuning because Decision tree perform better for both numerical and categorical features.\n",
    "* OverSampling method does not give the real observation instead the dataset is oversampled to give better prediction of model instead of real-time measured observations.\n",
    "* Using RepeatedKFold validation over StratifiedKFold gave us better predictions of the GridSearch results.\n"
   ]
  },
  {
   "cell_type": "markdown",
   "metadata": {},
   "source": [
    "# <span style=\"color: #0099cc;\">Summary and Conclusions <a class=\"anchor\" id=\"9\"></a> "
   ]
  },
  {
   "cell_type": "markdown",
   "metadata": {},
   "source": [
    "## <span style=\"color: #0099cc;\">Project Summary <a class=\"anchor\" id=\"10\"></a> "
   ]
  },
  {
   "cell_type": "markdown",
   "metadata": {},
   "source": [
    "* Phase 1 stressed more Data Cleaning and Preprocessing which included Handling missing values ,outliers and removing constant features\n",
    "* Data Exploration process helped to get insights from the relationships between the features \n",
    "* Predictive Modelling involved in finding the best features ,best hyperparameters to classifiers and best model to fit the data features to estimate better predictions .\n",
    "* Feature Selection & ranking used to find the 10 best features with more importance percentage \n",
    "* Grid-search is performed for the best features selected from the Random Forest Importance method over each classifier.\n",
    "* For each model 5-fold RepeatedKFold with 3 repetitions cross-validation evaluation method is applied on the training data using accuracy metric.\n",
    "* Model with best hyperparameters are fit on the test data using 10-fold RepeatedKFold cross-validation.\n",
    "* Models are evaluated using metrics and paired t-test to estimate the best model with better accuracy.\n",
    "* The accuracy obtained during hyperparameter tuning when applied on trained data and cross-validation on test data is highest in KNN.\n",
    "* The paired ttest also revealed that the difference in accuracy scores were statistically different when checked on KNN."
   ]
  },
  {
   "cell_type": "markdown",
   "metadata": {},
   "source": [
    "##  <span style=\"color: #0099cc;\"> Summary of Findings: <a class=\"anchor\" id=\"11\"></a> "
   ]
  },
  {
   "cell_type": "markdown",
   "metadata": {},
   "source": [
    "* Data Cleaning involved in removing constant feature like **id** , dropping off the **missing values** in **bmi** feature ,removing the **outliers** in **bmi** and **avg_glucose_level** features\n",
    "* Data exploration gave insights about male being more likely to have stroke than female ,and 75% of patients with age group 75-80 are more likely to have stroke and more than 50% with hypertension and between age group 70-75 are more likely to have stroke.\n",
    "* Feature ranking and selection method suggests the **age** feature has more than 35% importance percent compared followed by **avg_glucose_level** feature\n",
    "* Some of the hypothesis made by me being **bmi** and **avg_glucose_level** features to have more important percent which was wrong when RFI method for feature ranking and selection was used which predicted the **age** feature to have more importance percent.\n",
    "\n"
   ]
  },
  {
   "cell_type": "markdown",
   "metadata": {},
   "source": [
    "##   <span style=\"color: #0099cc;\">Conclusions <a class=\"anchor\" id=\"12\"></a>  "
   ]
  },
  {
   "cell_type": "markdown",
   "metadata": {},
   "source": [
    "* **Age** feature was the best feature in predicting the stroke \n",
    "* Since the dataset was imbalanced we oversampled the dataset to have better predictions which means the oversampled dataset did have real-time measured observations.\n",
    "* **KNN** is the best model for predicting whether the patients would get heart stroke with 95% accuracy.\n",
    "* Computational time for fitting the model with **KNN** is more than other classifiers"
   ]
  },
  {
   "cell_type": "markdown",
   "metadata": {},
   "source": [
    "# <span style=\"color: #0099cc;\">References <a class=\"anchor\" id=\"13\"></a> \n",
    "    \n",
    "* Stroke Prediction Dataset\n",
    " Stroke Prediction Dataset. (2021). Retrieved 2 June 2021, from https://www.kaggle.com/fedesoriano/stroke-prediction-dataset \n",
    "    \n",
    "* Oversampling and Undersampling\n",
    " Oversampling and Undersampling. (2020). Retrieved 2 June 2021, from https://towardsdatascience.com/oversampling-and-      undersampling-5e2bbaf56dcf\n",
    "\n",
    "* Machine Learning Tutorials | www.featureranking.com\n",
    " Machine Learning Tutorials | www.featureranking.com. (2021). Retrieved 2 June 2021, from  https://www.featureranking.com/tutorials/machine-learning-tutorials/    \n"
   ]
  }
 ],
 "metadata": {
  "kernelspec": {
   "display_name": "Python 3",
   "language": "python",
   "name": "python3"
  },
  "language_info": {
   "codemirror_mode": {
    "name": "ipython",
    "version": 3
   },
   "file_extension": ".py",
   "mimetype": "text/x-python",
   "name": "python",
   "nbconvert_exporter": "python",
   "pygments_lexer": "ipython3",
   "version": "3.8.8"
  }
 },
 "nbformat": 4,
 "nbformat_minor": 4
}
